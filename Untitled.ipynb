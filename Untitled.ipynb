{
 "cells": [
  {
   "cell_type": "code",
   "execution_count": null,
   "id": "df6b9324-e7f2-41f8-8e14-d4730bc3fd9c",
   "metadata": {
    "tags": []
   },
   "outputs": [],
   "source": [
    "import panel as pn\n",
    "import time\n",
    "pn.extension()"
   ]
  },
  {
   "cell_type": "code",
   "execution_count": null,
   "id": "e91a2bf8-db74-49ea-8aa2-fb0c5415df49",
   "metadata": {},
   "outputs": [],
   "source": [
    "slider = pn.widgets.DiscretePlayer(name='Discrete Player', options=[2, 4, 8, 16, 32, 64, 128], value=8, loop_policy='loop',value_location='top_center')"
   ]
  },
  {
   "cell_type": "code",
   "execution_count": null,
   "id": "05661e37-7777-4402-826d-2ff8be03a04f",
   "metadata": {
    "tags": []
   },
   "outputs": [],
   "source": [
    "slider.show()"
   ]
  },
  {
   "cell_type": "code",
   "execution_count": null,
   "id": "2b91d1c1-2263-4fba-b146-fac33c6808fe",
   "metadata": {
    "tags": []
   },
   "outputs": [],
   "source": [
    "slider.name = 'yeet'"
   ]
  },
  {
   "cell_type": "code",
   "execution_count": null,
   "id": "3ba2abbf-0866-414a-923e-722a4ae802c0",
   "metadata": {},
   "outputs": [],
   "source": [
    "slider.value_location = 'top_right'"
   ]
  },
  {
   "cell_type": "code",
   "execution_count": null,
   "id": "50428084-2f1e-41ea-a19c-10e5e1320fb8",
   "metadata": {},
   "outputs": [],
   "source": [
    "slider.value_location"
   ]
  },
  {
   "cell_type": "code",
   "execution_count": null,
   "id": "51873c8d-ed14-46c4-8352-2fb5bfcdcc9b",
   "metadata": {},
   "outputs": [],
   "source": [
    "slider.value_location = 'top_left'"
   ]
  },
  {
   "cell_type": "code",
   "execution_count": null,
   "id": "21a7129f-2b72-4c29-9341-568e430b014c",
   "metadata": {
    "tags": []
   },
   "outputs": [],
   "source": [
    "slider.show()"
   ]
  },
  {
   "cell_type": "code",
   "execution_count": null,
   "id": "188c063d-67be-4759-8ead-3bfed3ecf5a8",
   "metadata": {},
   "outputs": [],
   "source": [
    "slider.value_location = 'top_center'"
   ]
  },
  {
   "cell_type": "code",
   "execution_count": null,
   "id": "45d127ad-133b-4a69-ac83-6a2d3caf4212",
   "metadata": {},
   "outputs": [],
   "source": [
    "slider"
   ]
  },
  {
   "cell_type": "code",
   "execution_count": null,
   "id": "d594a4a3-3dcd-472f-bd16-445c09a982f7",
   "metadata": {},
   "outputs": [],
   "source": [
    "while True:\n",
    "    for loc in ('top_left', 'top_center', 'top_right'):\n",
    "        slider.value_location = loc\n",
    "        time.sleep(1)"
   ]
  }
 ],
 "metadata": {
  "language_info": {
   "name": "python",
   "pygments_lexer": "ipython3"
  }
 },
 "nbformat": 4,
 "nbformat_minor": 5
}
